{
 "cells": [
  {
   "cell_type": "markdown",
   "id": "e3ed30e2",
   "metadata": {},
   "source": [
    "# Functions / Syntax / Boilerplate\n",
    "\n",
    "### Essential libraries\n",
    "\n",
    "Include at the top of the file: **#include \\<iostream>**\n",
    "\n",
    "### Printing to console\n",
    "\n",
    "Does NOT make a new line itself, add \\n for new lines.\n",
    "\n",
    "**Text**: printf(\"text\");\n",
    "\n",
    "**Text w/ another string**: printf(\"text %s\", str);\n",
    "\n",
    "**Integers:** printf(\"%d\", integer)\n",
    "\n",
    "**Floats:** printf(\"%f\", integer)\n",
    "\n",
    "\n",
    "\n",
    "\n"
   ]
  },
  {
   "cell_type": "markdown",
   "id": "f60628c5",
   "metadata": {},
   "source": [
    "``` c++\n",
    "int integer = 5;\n",
    "float flnum = 1.234;\n",
    "\n",
    "printf(\"Hello world\\n\");\n",
    "printf(\"%d\\n\", integer);\n",
    "printf(\"%f\", flnum);\n",
    "\n",
    "return 0;\n",
    "    \n",
    "```"
   ]
  },
  {
   "cell_type": "markdown",
   "id": "e4c7075d",
   "metadata": {},
   "source": [
    "# Data Structures\n",
    "\n",
    "### Pointers\n",
    "\n",
    "**variable\\*:** Pointers, take in/store a memory address to a variable of the same type.\n",
    "\n",
    "Pointers can't be printed out themselves unless dereferenced.\n",
    "\n",
    "**Variable to Address:** &variable\n",
    "\n",
    "**Address to Variable (Dereference):**  \\*variable"
   ]
  },
  {
   "cell_type": "markdown",
   "id": "9da98e1b",
   "metadata": {},
   "source": [
    "\n",
    "``` c++\n",
    "float num = 5;\n",
    "    \n",
    "// Address to num.\n",
    "// Of type float* (Float pointer), storing address of num (&num)\n",
    "float* numAddr = &num;\n",
    "\n",
    "printf(\"%f\\n\", num);\n",
    "\n",
    "// Prints dereference of address of num (*numAddr)\n",
    "printf(\"%f\", *numAddr);\n",
    "```"
   ]
  },
  {
   "cell_type": "markdown",
   "id": "b17958bd",
   "metadata": {},
   "source": [
    "### References\n",
    "\n",
    "**type& variable:** A reference to a variable, this reference can be set to another variable of the same type without the &.\n",
    "\n",
    "Pointers point to memory addresses, while references point to actual values. (?)"
   ]
  },
  {
   "cell_type": "markdown",
   "id": "063b66fd",
   "metadata": {},
   "source": [
    "``` c++\n",
    "float x = 1.234;\n",
    "    \n",
    "float& xRef = x;\n",
    "\n",
    "printf(\"X: %f\\n\", x);\n",
    "printf(\"X reference: %f\\n\\n\", xRef);\n",
    "\n",
    "xRef = xRef + 5;\n",
    "printf(\"X ref + 5: %f\\n\", xRef);\n",
    "printf(\"X: %f\", x);\n",
    "```\n"
   ]
  },
  {
   "cell_type": "markdown",
   "id": "8bab12fd",
   "metadata": {},
   "source": [
    "### Vectors (Dynamic Arrays)\n",
    "\n",
    "Include at the type of the file: **#include \\<vector>**\n",
    "\n",
    "Basically like an array but you don't need to specify size (like in Python). Cannot be printed directly like in Python, must be iterated.\n",
    "\n",
    "**Initialization**\n",
    "\n",
    "vector\\<type> name = {values};\n",
    "\n",
    "&nbsp;\n",
    "\n",
    "**Accessing elements**\n",
    "\n",
    "name.at(index);\n",
    "\n",
    "&nbsp;\n",
    "\n",
    "**Adding elements (to end)**\n",
    "\n",
    "name.push_back(value);\n",
    "\n",
    "&nbsp;\n",
    "\n",
    "**Size of vector (# of elements)**\n",
    "\n",
    "name.size()\n",
    "\n"
   ]
  },
  {
   "cell_type": "markdown",
   "id": "740b6828",
   "metadata": {},
   "source": [
    "``` c++\n",
    "vector<int> arr = {1,2,3,4,5};\n",
    "    \n",
    "for (int i = 0; i < arr.size(); i++) {\n",
    "    printf(\"%d\\n\", arr.at(i));\n",
    "}\n",
    "```\n"
   ]
  },
  {
   "cell_type": "markdown",
   "id": "090da02a",
   "metadata": {},
   "source": [
    "#\n",
    "\n",
    "**Iterating through a vector (Best practice)**\n",
    "\n",
    "Use an iterator: \n",
    "```c++    \n",
    "vector<int> initial = {4,5,6};\n",
    "\n",
    "vector<int> result = twoSum(initial, 4);\n",
    "vector<int>::iterator iter;\n",
    "\n",
    "\n",
    "\n",
    "for (iter = result.begin(); iter != result.end(); ++iter){\n",
    "    printf(\"%d\\n\", *iter);\n",
    "}\n",
    "```\n",
    "\n",
    "1. Create your vector.\n",
    "2. Create your vector iterator.\n",
    "3. In the for loop: you set iter to the first value of the vector. It goes to the next value each iteration until it reaches the end of the vector. The value is accessed by **dereferencing** the iterator.\n"
   ]
  },
  {
   "cell_type": "code",
   "execution_count": null,
   "id": "ab4fca46",
   "metadata": {},
   "outputs": [],
   "source": []
  }
 ],
 "metadata": {
  "kernelspec": {
   "display_name": "Python 3 (ipykernel)",
   "language": "python",
   "name": "python3"
  },
  "language_info": {
   "codemirror_mode": {
    "name": "ipython",
    "version": 3
   },
   "file_extension": ".py",
   "mimetype": "text/x-python",
   "name": "python",
   "nbconvert_exporter": "python",
   "pygments_lexer": "ipython3",
   "version": "3.11.3"
  }
 },
 "nbformat": 4,
 "nbformat_minor": 5
}
